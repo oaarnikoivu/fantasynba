{
 "cells": [
  {
   "cell_type": "markdown",
   "metadata": {},
   "source": [
    "## Imports"
   ]
  },
  {
   "cell_type": "code",
   "execution_count": 40,
   "metadata": {
    "pycharm": {
     "is_executing": false
    }
   },
   "outputs": [
    {
     "ename": "ImportError",
     "evalue": "cannot import name 'top_similar_players_in_cluster' from 'helper_funtions' (/Users/olive/github/fantasynba/helper_funtions.py)",
     "output_type": "error",
     "traceback": [
      "\u001b[0;31m---------------------------------------------------------------------------\u001b[0m",
      "\u001b[0;31mImportError\u001b[0m                               Traceback (most recent call last)",
      "\u001b[0;32m<ipython-input-40-636e53b3e184>\u001b[0m in \u001b[0;36m<module>\u001b[0;34m\u001b[0m\n\u001b[1;32m      8\u001b[0m \u001b[0;32mfrom\u001b[0m \u001b[0msklearn\u001b[0m\u001b[0;34m.\u001b[0m\u001b[0mpreprocessing\u001b[0m \u001b[0;32mimport\u001b[0m \u001b[0mStandardScaler\u001b[0m\u001b[0;34m\u001b[0m\u001b[0;34m\u001b[0m\u001b[0m\n\u001b[1;32m      9\u001b[0m \u001b[0;32mfrom\u001b[0m \u001b[0mmatplotlib\u001b[0m \u001b[0;32mimport\u001b[0m \u001b[0mrcParams\u001b[0m\u001b[0;34m\u001b[0m\u001b[0;34m\u001b[0m\u001b[0m\n\u001b[0;32m---> 10\u001b[0;31m \u001b[0;32mfrom\u001b[0m \u001b[0mhelper_funtions\u001b[0m \u001b[0;32mimport\u001b[0m \u001b[0mtop_similar_players_in_cluster\u001b[0m\u001b[0;34m\u001b[0m\u001b[0;34m\u001b[0m\u001b[0m\n\u001b[0m\u001b[1;32m     11\u001b[0m \u001b[0;34m\u001b[0m\u001b[0m\n\u001b[1;32m     12\u001b[0m \u001b[0mrcParams\u001b[0m\u001b[0;34m[\u001b[0m\u001b[0;34m'axes.titlepad'\u001b[0m\u001b[0;34m]\u001b[0m \u001b[0;34m=\u001b[0m \u001b[0;36m20\u001b[0m\u001b[0;34m\u001b[0m\u001b[0;34m\u001b[0m\u001b[0m\n",
      "\u001b[0;31mImportError\u001b[0m: cannot import name 'top_similar_players_in_cluster' from 'helper_funtions' (/Users/olive/github/fantasynba/helper_funtions.py)"
     ]
    }
   ],
   "source": [
    "import pandas as pd\n",
    "import matplotlib.pyplot as plt\n",
    "import numpy as np\n",
    "import seaborn as sns\n",
    "import random\n",
    "\n",
    "\n",
    "from sklearn.preprocessing import StandardScaler\n",
    "from matplotlib import rcParams\n",
    "from helper_funtions import top_similar_players_in_cluster\n",
    "\n",
    "rcParams['axes.titlepad'] = 20\n",
    "\n",
    "plt.style.use('ggplot')"
   ]
  },
  {
   "cell_type": "code",
   "execution_count": 41,
   "metadata": {
    "pycharm": {
     "is_executing": false
    }
   },
   "outputs": [],
   "source": [
    "SEED = 7\n",
    "\n",
    "np.random.seed(SEED)\n",
    "random.seed(SEED)"
   ]
  },
  {
   "cell_type": "markdown",
   "metadata": {},
   "source": [
    "## Load Data"
   ]
  },
  {
   "cell_type": "code",
   "execution_count": null,
   "metadata": {
    "pycharm": {
     "is_executing": false
    },
    "scrolled": false
   },
   "outputs": [],
   "source": [
    "DATA_PATH = '/Users/olive/github/fantasynba/data/rankings.xlsx'\n",
    "\n",
    "nba = pd.read_excel(DATA_PATH)\n",
    "\n",
    "nba[:10]"
   ]
  },
  {
   "cell_type": "markdown",
   "metadata": {},
   "source": [
    "## Data pre-processing"
   ]
  },
  {
   "cell_type": "code",
   "execution_count": null,
   "metadata": {
    "pycharm": {
     "is_executing": false
    }
   },
   "outputs": [],
   "source": [
    "nba.drop('TOTAL', axis=1, inplace=True)\n",
    "nba.drop('R#', axis=1, inplace=True)\n",
    "nba.drop('GP', axis=1, inplace=True)\n",
    "nba.drop('TEAM', axis=1, inplace=True)\n",
    "nba.drop('POS', axis=1, inplace=True)"
   ]
  },
  {
   "cell_type": "code",
   "execution_count": null,
   "metadata": {
    "pycharm": {
     "is_executing": false
    }
   },
   "outputs": [],
   "source": [
    "nba.isnull().any().any()"
   ]
  },
  {
   "cell_type": "code",
   "execution_count": null,
   "metadata": {
    "pycharm": {
     "is_executing": false
    }
   },
   "outputs": [],
   "source": [
    "nba['PLAYER'] = nba['PLAYER'].apply(is_name)\n",
    "nba['FG%'] = nba['FG%'].apply(remove_text_inside_brackets)\n",
    "nba['FT%'] = nba['FT%'].apply(remove_text_inside_brackets)\n",
    "\n",
    "nba.head()"
   ]
  },
  {
   "cell_type": "code",
   "execution_count": null,
   "metadata": {
    "pycharm": {
     "is_executing": false
    }
   },
   "outputs": [],
   "source": [
    "nba.shape"
   ]
  },
  {
   "cell_type": "code",
   "execution_count": null,
   "metadata": {
    "pycharm": {
     "is_executing": false
    }
   },
   "outputs": [],
   "source": [
    "nba.mean()"
   ]
  },
  {
   "cell_type": "markdown",
   "metadata": {},
   "source": [
    "# EDA"
   ]
  },
  {
   "cell_type": "code",
   "execution_count": null,
   "metadata": {
    "pycharm": {
     "is_executing": false
    }
   },
   "outputs": [],
   "source": [
    "#sns.pairplot(nba[[\"MPG\", \"FG%\", \"FT%\", \"3PM\", \"PTS\", \"AST\", \"STL\", \"BLK\", \"TO\"]])"
   ]
  },
  {
   "cell_type": "code",
   "execution_count": null,
   "metadata": {
    "pycharm": {
     "is_executing": false
    }
   },
   "outputs": [],
   "source": [
    "correlation = nba[[\"FG%\", \"FT%\", \"3PM\", \"PTS\", \"AST\", \"STL\", \"BLK\", \"TO\"]].corr()\n",
    "sns.heatmap(correlation, annot=True)"
   ]
  },
  {
   "cell_type": "markdown",
   "metadata": {},
   "source": [
    "# KMeans Clustering"
   ]
  },
  {
   "cell_type": "code",
   "execution_count": null,
   "metadata": {
    "pycharm": {
     "is_executing": false
    }
   },
   "outputs": [],
   "source": [
    "from sklearn.decomposition import PCA\n",
    "from sklearn.cluster import KMeans"
   ]
  },
  {
   "cell_type": "code",
   "execution_count": null,
   "metadata": {
    "pycharm": {
     "is_executing": false
    }
   },
   "outputs": [],
   "source": [
    "scaler = StandardScaler()\n",
    "X = nba._get_numeric_data().dropna(axis=1)\n",
    "X_scaled = scaler.fit_transform(X)\n",
    "\n",
    "pca_2 = PCA(2)\n",
    "pca_2.fit(X_scaled)\n",
    "X_pca = pca_2.transform(X_scaled)\n",
    "\n",
    "distortions = []\n",
    "\n",
    "for i in range(1, 10):\n",
    "    km = KMeans(\n",
    "        n_clusters=i, \n",
    "        init='random', \n",
    "        n_init=10, \n",
    "        max_iter=300, \n",
    "        tol=1e-04, \n",
    "        random_state=0)\n",
    "    km.fit(X_pca)\n",
    "    distortions.append(km.inertia_)\n",
    "    \n",
    "plt.plot(range(1, 10), distortions, marker='o')\n",
    "plt.xlabel('Number of clusters')\n",
    "plt.ylabel('Distortion')"
   ]
  },
  {
   "cell_type": "code",
   "execution_count": null,
   "metadata": {
    "pycharm": {
     "is_executing": false
    }
   },
   "outputs": [],
   "source": [
    "kmeans_model = KMeans(n_clusters=9, \n",
    "                      init='random',\n",
    "                      n_init=10,\n",
    "                      max_iter=300,\n",
    "                      tol=1e-04,\n",
    "                      random_state=0)\n",
    "kmeans_model.fit(X_pca)\n",
    "labels = kmeans_model.labels_\n",
    "\n",
    "centers = kmeans_model.cluster_centers_\n",
    "plt.scatter(x = X_pca[:,0], y = X_pca[:,1], c = labels)\n",
    "plt.scatter(x = centers[:, 0], y = centers[:, 1], c = 'black', s = 200, alpha = 0.5)"
   ]
  },
  {
   "cell_type": "code",
   "execution_count": null,
   "metadata": {
    "pycharm": {
     "is_executing": false
    }
   },
   "outputs": [],
   "source": [
    "nba['Cluster'] = kmeans_model.labels_\n",
    "nba[:12]"
   ]
  },
  {
   "cell_type": "code",
   "execution_count": null,
   "metadata": {
    "pycharm": {
     "is_executing": false
    }
   },
   "outputs": [],
   "source": [
    "nba.mean()"
   ]
  },
  {
   "cell_type": "code",
   "execution_count": null,
   "metadata": {
    "pycharm": {
     "is_executing": false
    }
   },
   "outputs": [],
   "source": [
    "\n",
    "\n",
    "print(get_cluster(7))"
   ]
  },
  {
   "cell_type": "markdown",
   "metadata": {},
   "source": [
    "## Organize players into clusters"
   ]
  },
  {
   "cell_type": "code",
   "execution_count": null,
   "metadata": {
    "pycharm": {
     "is_executing": false
    }
   },
   "outputs": [],
   "source": [
    "# Top similar players to a specified player\n",
    "\n",
    "        \n",
    "\n",
    "\n",
    "\n",
    "def visualize_data_for_similar_players(player,  \n",
    "                                       plt_type,\n",
    "                                       categories=['FG%', 'FT%', '3PM', 'PTS', 'TREB', 'AST', 'STL', 'BLK', 'TO']\n",
    "                                       ):\n",
    "    colors = plt.rcParams['axes.prop_cycle']()\n",
    "    \n",
    "    fig, axes = plt.subplots(3,3, figsize=(12,12))\n",
    "    #fig.suptitle(f\"Stats of players similar to {player['PLAYER'].values[0]}\", fontsize=16)\n",
    "    \n",
    "    for ax, cat in zip(axes.flatten(), categories):\n",
    "        c = next(colors)['color']\n",
    "        \n",
    "        if plt_type is 'vlines':\n",
    "            ax.vlines(x=player['PLAYER'], ymin=0, ymax=player[cat], color=c, alpha=0.7, linewidth=2)\n",
    "            ax.scatter(x=player['PLAYER'], y=player[cat], color=c, alpha=0.7)\n",
    "        elif plt_type is 'bar':\n",
    "            ax.bar(player['PLAYER'], player[cat], color=c, width=.5)\n",
    "            ax.set_xticklabels(player['PLAYER'], rotation=60, horizontalalignment='right')\n",
    "            for i, val in enumerate(player[cat].values):\n",
    "                ax.text(i, val, float(val), \n",
    "                         horizontalalignment='center', \n",
    "                         verticalalignment='bottom', \n",
    "                         fontdict={'fontweight':500, 'size':12})\n",
    "                if (max(player[cat] > 5)):\n",
    "                    ax.set_ylim([0, max(player[cat]) + 5])\n",
    "                elif (max(player[cat] > 2) and max(player[cat] < 5)):\n",
    "                    ax.set_ylim([0, max(player[cat]) + 2])\n",
    "                elif (max(player[cat] > 1) and (max(player[cat] <= 2))):\n",
    "                    ax.set_ylim([0, max(player[cat]) + 0.3])\n",
    "                else:\n",
    "                    ax.set_ylim([0, max(player[cat] + 0.2)])\n",
    "        \n",
    "        ax.title.set_text(cat)\n",
    "    \n",
    "    plt.tight_layout()\n",
    "    plt.show()"
   ]
  },
  {
   "cell_type": "markdown",
   "metadata": {},
   "source": [
    "### Centers"
   ]
  },
  {
   "cell_type": "code",
   "execution_count": null,
   "metadata": {
    "pycharm": {
     "is_executing": false
    }
   },
   "outputs": [],
   "source": [
    "db = nba.loc[nba['Cluster'] == 0]\n",
    "\n",
    "DEFENSIVE_BIGS = db.set_index(['PLAYER'])"
   ]
  },
  {
   "cell_type": "code",
   "execution_count": null,
   "metadata": {
    "pycharm": {
     "is_executing": false
    }
   },
   "outputs": [],
   "source": [
    "db_recommender = create_recommender(DEFENSIVE_BIGS)\n",
    "db_recommender.head()"
   ]
  },
  {
   "cell_type": "code",
   "execution_count": null,
   "metadata": {
    "pycharm": {
     "is_executing": false
    }
   },
   "outputs": [],
   "source": [
    "GOBERT = top_similar_players_in_cluster(\n",
    "    search='Rudy Gobert', \n",
    "    cluster_category=db,\n",
    "    recommender_df=db_recommender_df,\n",
    "    max_range=5\n",
    ")"
   ]
  },
  {
   "cell_type": "code",
   "execution_count": null,
   "metadata": {
    "pycharm": {
     "is_executing": false
    }
   },
   "outputs": [],
   "source": [
    "GOBERT_SIMILAR = show_data_for_similar_players(\n",
    "    cluster = 0,\n",
    "    players = GOBERT.index.values\n",
    ")"
   ]
  },
  {
   "cell_type": "code",
   "execution_count": null,
   "metadata": {
    "pycharm": {
     "is_executing": false
    }
   },
   "outputs": [],
   "source": [
    "visualize_data_for_similar_players(\n",
    "    player = GOBERT_SIMILAR, \n",
    "    plt_type='bar'\n",
    ")"
   ]
  },
  {
   "cell_type": "code",
   "execution_count": null,
   "metadata": {
    "pycharm": {
     "is_executing": false
    }
   },
   "outputs": [],
   "source": [
    "wrb = nba.loc[nba['Cluster'] == 1]\n",
    "\n",
    "WELL_ROUNDED_BIGS = wrb.set_index(['PLAYER'])"
   ]
  },
  {
   "cell_type": "code",
   "execution_count": null,
   "metadata": {
    "pycharm": {
     "is_executing": false
    }
   },
   "outputs": [],
   "source": [
    "wrb_recommender = create_recommender(WELL_ROUNDED_BIGS)\n",
    "wrb_recommender.head()"
   ]
  },
  {
   "cell_type": "code",
   "execution_count": null,
   "metadata": {
    "pycharm": {
     "is_executing": false
    }
   },
   "outputs": [],
   "source": [
    "HOLMES = top_similar_players_in_cluster(\n",
    "    search='Richaun Holmes',\n",
    "    cluster_category=wrb,\n",
    "    recommender_df=wrb_recommender,\n",
    "    max_range=5\n",
    ")\n",
    "\n",
    "HOLMES"
   ]
  },
  {
   "cell_type": "code",
   "execution_count": null,
   "metadata": {
    "pycharm": {
     "is_executing": false
    }
   },
   "outputs": [],
   "source": [
    "HOLMES_SIMILAR = show_data_for_similar_players(\n",
    "    cluster=1,\n",
    "    players=HOLMES.index.values\n",
    ")"
   ]
  },
  {
   "cell_type": "code",
   "execution_count": null,
   "metadata": {
    "pycharm": {
     "is_executing": false
    }
   },
   "outputs": [],
   "source": [
    "visualize_data_for_similar_players(HOLMES_SIMILAR, 'bar')"
   ]
  },
  {
   "cell_type": "markdown",
   "metadata": {},
   "source": [
    "## All around threats"
   ]
  },
  {
   "cell_type": "code",
   "execution_count": null,
   "metadata": {
    "pycharm": {
     "is_executing": false
    }
   },
   "outputs": [],
   "source": [
    "at = nba.loc[nba['Cluster'] == 2]\n",
    "\n",
    "ALL_AROUND_THREATS = at.set_index(['PLAYER'])"
   ]
  },
  {
   "cell_type": "code",
   "execution_count": null,
   "metadata": {
    "pycharm": {
     "is_executing": false
    }
   },
   "outputs": [],
   "source": [
    "at_recommender = create_recommender(ALL_AROUND_THREATS)\n",
    "at_recommender.head()"
   ]
  },
  {
   "cell_type": "code",
   "execution_count": null,
   "metadata": {
    "pycharm": {
     "is_executing": false
    }
   },
   "outputs": [],
   "source": [
    "HOLIDAY = top_similar_players_in_cluster(\n",
    "    search='Jrue Holiday',\n",
    "    cluster_category=at,\n",
    "    recommender_df=at_recommender,\n",
    "    max_range=5\n",
    ")\n",
    "\n",
    "LAVINE = top_similar_players_in_cluster(\n",
    "    search='Zach LaVine',\n",
    "    cluster_category=at,\n",
    "    recommender_df=at_recommender,\n",
    "    max_range=5\n",
    ")\n",
    "\n",
    "DONCIC = top_similar_players_in_cluster(\n",
    "    search = 'Luka Doncic',\n",
    "    cluster_category=at,\n",
    "    recommender_df=at_recommender,\n",
    "    max_range=5\n",
    ")"
   ]
  },
  {
   "cell_type": "code",
   "execution_count": 37,
   "metadata": {
    "pycharm": {
     "is_executing": false
    }
   },
   "outputs": [
    {
     "ename": "NameError",
     "evalue": "name 'HOLIDAY' is not defined",
     "output_type": "error",
     "traceback": [
      "\u001b[0;31m---------------------------------------------------------------------------\u001b[0m",
      "\u001b[0;31mNameError\u001b[0m                                 Traceback (most recent call last)",
      "\u001b[0;32m<ipython-input-37-3f5e83239054>\u001b[0m in \u001b[0;36m<module>\u001b[0;34m\u001b[0m\n\u001b[1;32m      1\u001b[0m HOLIDAY_SIMILAR = show_data_for_similar_players(\n\u001b[1;32m      2\u001b[0m     \u001b[0mcluster\u001b[0m\u001b[0;34m=\u001b[0m\u001b[0;36m2\u001b[0m\u001b[0;34m,\u001b[0m\u001b[0;34m\u001b[0m\u001b[0;34m\u001b[0m\u001b[0m\n\u001b[0;32m----> 3\u001b[0;31m     \u001b[0mplayers\u001b[0m \u001b[0;34m=\u001b[0m \u001b[0mHOLIDAY\u001b[0m\u001b[0;34m.\u001b[0m\u001b[0mindex\u001b[0m\u001b[0;34m.\u001b[0m\u001b[0mvalues\u001b[0m\u001b[0;34m\u001b[0m\u001b[0;34m\u001b[0m\u001b[0m\n\u001b[0m\u001b[1;32m      4\u001b[0m )\n\u001b[1;32m      5\u001b[0m \u001b[0;34m\u001b[0m\u001b[0m\n",
      "\u001b[0;31mNameError\u001b[0m: name 'HOLIDAY' is not defined"
     ]
    }
   ],
   "source": [
    "HOLIDAY_SIMILAR = show_data_for_similar_players(\n",
    "    cluster=2,\n",
    "    players = HOLIDAY.index.values\n",
    ")"
   ]
  },
  {
   "cell_type": "code",
   "execution_count": null,
   "metadata": {
    "pycharm": {
     "is_executing": false
    }
   },
   "outputs": [],
   "source": [
    "LAVINE_SIMILAR = show_data_for_similar_players(\n",
    "    cluster = 2,\n",
    "    players = LAVINE.index.values\n",
    ")"
   ]
  },
  {
   "cell_type": "code",
   "execution_count": null,
   "metadata": {
    "pycharm": {
     "is_executing": false
    }
   },
   "outputs": [],
   "source": [
    "DONCIC_SIMILAR = show_data_for_similar_players(\n",
    "    cluster = 2,\n",
    "    players = DONCIC.index.values\n",
    ")\n",
    "\n",
    "DONCIC_SIMILAR"
   ]
  },
  {
   "cell_type": "code",
   "execution_count": null,
   "metadata": {
    "pycharm": {
     "is_executing": false
    },
    "scrolled": false
   },
   "outputs": [],
   "source": [
    "visualize_data_for_similar_players(\n",
    "    player = DONCIC_SIMILAR,\n",
    "    plt_type='bar'\n",
    ")"
   ]
  },
  {
   "cell_type": "markdown",
   "metadata": {},
   "source": [
    "## Athletic bigs"
   ]
  },
  {
   "cell_type": "code",
   "execution_count": null,
   "metadata": {
    "pycharm": {
     "is_executing": false
    }
   },
   "outputs": [],
   "source": [
    "ab = nba.loc[nba['Cluster'] == 3]\n",
    "\n",
    "ATHLETIC_BIGS = ab.set_index(['PLAYER'])"
   ]
  },
  {
   "cell_type": "code",
   "execution_count": null,
   "metadata": {
    "pycharm": {
     "is_executing": false
    }
   },
   "outputs": [],
   "source": [
    "ab_recommender = create_recommender(ATHLETIC_BIGS)\n",
    "ab_recommender.head()"
   ]
  },
  {
   "cell_type": "code",
   "execution_count": null,
   "metadata": {
    "pycharm": {
     "is_executing": false
    }
   },
   "outputs": [],
   "source": [
    "SIMMONS = top_similar_players_in_cluster(\n",
    "    search='Ben Simmons',\n",
    "    cluster_category=ab,\n",
    "    recommender_df=ab_recommender,\n",
    "    max_range=4\n",
    ")"
   ]
  },
  {
   "cell_type": "code",
   "execution_count": null,
   "metadata": {
    "pycharm": {
     "is_executing": false
    }
   },
   "outputs": [],
   "source": [
    "SIMMONS_SIMILAR = show_data_for_similar_players(\n",
    "    cluster = 3,\n",
    "    players = SIMMONS.index.values\n",
    ")"
   ]
  },
  {
   "cell_type": "code",
   "execution_count": null,
   "metadata": {
    "pycharm": {
     "is_executing": false
    }
   },
   "outputs": [],
   "source": [
    "visualize_data_for_similar_players(\n",
    "    player = SIMMONS_SIMILAR,\n",
    "    plt_type='bar'\n",
    ")"
   ]
  },
  {
   "cell_type": "markdown",
   "metadata": {},
   "source": [
    "## Shooters"
   ]
  },
  {
   "cell_type": "code",
   "execution_count": null,
   "metadata": {
    "pycharm": {
     "is_executing": false
    }
   },
   "outputs": [],
   "source": [
    "sh = nba.loc[nba['Cluster'] == 5]\n",
    "\n",
    "SHOOTERS = sh.set_index(['PLAYER'])"
   ]
  },
  {
   "cell_type": "code",
   "execution_count": null,
   "metadata": {
    "pycharm": {
     "is_executing": false
    }
   },
   "outputs": [],
   "source": [
    "sh_recommender = create_recommender(SHOOTERS)\n",
    "sh_recommender.head()"
   ]
  },
  {
   "cell_type": "code",
   "execution_count": null,
   "metadata": {
    "pycharm": {
     "is_executing": false
    }
   },
   "outputs": [],
   "source": [
    "MARKKANEN = top_similar_players_in_cluster(\n",
    "    search='Lauri Markkanen',\n",
    "    cluster_category=sh,\n",
    "    recommender_df=sh_recommender,\n",
    "    max_range=5\n",
    ")\n",
    "\n",
    "MARKKANEN"
   ]
  },
  {
   "cell_type": "code",
   "execution_count": null,
   "metadata": {
    "pycharm": {
     "is_executing": false
    }
   },
   "outputs": [],
   "source": [
    "MARKKANEN_SIMILAR = show_data_for_similar_players(\n",
    "    cluster=5,\n",
    "    players = MARKKANEN.index.values\n",
    ")"
   ]
  },
  {
   "cell_type": "code",
   "execution_count": null,
   "metadata": {
    "pycharm": {
     "is_executing": false
    }
   },
   "outputs": [],
   "source": [
    "visualize_data_for_similar_players(MARKKANEN_SIMILAR, 'bar')"
   ]
  },
  {
   "cell_type": "markdown",
   "metadata": {},
   "source": [
    "## Guards"
   ]
  },
  {
   "cell_type": "code",
   "execution_count": null,
   "metadata": {
    "pycharm": {
     "is_executing": false
    }
   },
   "outputs": [],
   "source": [
    "g = nba.loc[nba['Cluster'] == 7]\n",
    "\n",
    "GUARDS = g.set_index(['PLAYER'])"
   ]
  },
  {
   "cell_type": "code",
   "execution_count": null,
   "metadata": {
    "pycharm": {
     "is_executing": false
    },
    "scrolled": true
   },
   "outputs": [],
   "source": [
    "g_recommender = create_recommender(GUARDS)\n",
    "g_recommender.head()"
   ]
  },
  {
   "cell_type": "code",
   "execution_count": null,
   "metadata": {
    "pycharm": {
     "is_executing": false
    }
   },
   "outputs": [],
   "source": [
    "DEVONTE = top_similar_players_in_cluster(\n",
    "    search=\"Devonte' Graham\",\n",
    "    cluster_category=g,\n",
    "    recommender_df=g_recommender,\n",
    "    max_range=4\n",
    ")\n",
    "\n",
    "CURRY = top_similar_players_in_cluster(\n",
    "    search=\"Stephen Curry\",\n",
    "    cluster_category=g,\n",
    "    recommender_df=g_recommender,\n",
    "    max_range=5\n",
    ")"
   ]
  },
  {
   "cell_type": "code",
   "execution_count": null,
   "metadata": {
    "pycharm": {
     "is_executing": false
    }
   },
   "outputs": [],
   "source": [
    "DEVONTE_SIMILAR = show_data_for_similar_players(\n",
    "    cluster=7,\n",
    "    players = DEVONTE.index.values\n",
    ")"
   ]
  },
  {
   "cell_type": "code",
   "execution_count": null,
   "metadata": {
    "pycharm": {
     "is_executing": false
    }
   },
   "outputs": [],
   "source": [
    "CURRY_SIMILAR = show_data_for_similar_players(\n",
    "    cluster=7,\n",
    "    players = CURRY.index.values\n",
    ")"
   ]
  },
  {
   "cell_type": "code",
   "execution_count": null,
   "metadata": {
    "pycharm": {
     "is_executing": false
    }
   },
   "outputs": [],
   "source": [
    "visualize_data_for_similar_players(\n",
    "    player=CURRY_SIMILAR,\n",
    "    plt_type='bar'\n",
    ")"
   ]
  },
  {
   "cell_type": "code",
   "execution_count": null,
   "metadata": {
    "pycharm": {
     "is_executing": false
    }
   },
   "outputs": [],
   "source": []
  }
 ],
 "metadata": {
  "kernelspec": {
   "display_name": "Python 3",
   "language": "python",
   "name": "python3"
  },
  "language_info": {
   "codemirror_mode": {
    "name": "ipython",
    "version": 3
   },
   "file_extension": ".py",
   "mimetype": "text/x-python",
   "name": "python",
   "nbconvert_exporter": "python",
   "pygments_lexer": "ipython3",
   "version": "3.7.7"
  },
  "pycharm": {
   "stem_cell": {
    "cell_type": "raw",
    "metadata": {
     "collapsed": false
    },
    "source": []
   }
  }
 },
 "nbformat": 4,
 "nbformat_minor": 4
}
